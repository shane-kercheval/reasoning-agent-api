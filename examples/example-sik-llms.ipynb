{
 "cells": [
  {
   "cell_type": "markdown",
   "id": "9ca38bf7",
   "metadata": {},
   "source": [
    "- Start the api via `make api` which should start the api at `http://localhost:8000`"
   ]
  },
  {
   "cell_type": "code",
   "execution_count": 1,
   "id": "8c2adf19",
   "metadata": {},
   "outputs": [
    {
     "name": "stdout",
     "output_type": "stream",
     "text": [
      "input_tokens=0 output_tokens=0 input_cost=0.0 output_cost=0.0 cache_write_tokens=None cache_read_tokens=0 cache_write_cost=None cache_read_cost=0.0 duration_seconds=2.61344950000057 response='The greatest 3-point shooter in NBA history is widely regarded to be Stephen Curry. He holds the record for the most career 3-pointers made in NBA history and has consistently demonstrated exceptional shooting accuracy from beyond the arc. His impact on the game has transformed how teams approach shooting, making him a pivotal figure in modern basketball.'\n",
      "The greatest 3-point shooter in NBA history is widely regarded to be Stephen Curry. He holds the record for the most career 3-pointers made in NBA history and has consistently demonstrated exceptional shooting accuracy from beyond the arc. His impact on the game has transformed how teams approach shooting, making him a pivotal figure in modern basketball.\n"
     ]
    }
   ],
   "source": [
    "from sik_llms import OpenAI, assistant_message, user_message\n",
    "client = OpenAI(\n",
    "    model_name='gpt-4o-mini',\n",
    "    server_url='http://localhost:8000/v1',\n",
    "    temperature=0.1,\n",
    ")\n",
    "message = user_message(\"What is the capital of France?\")\n",
    "response = client(messages=[\n",
    "    assistant_message(\"You are a helpful assistant. Response concisely.\"),\n",
    "    user_message(\"Who is the greatest 3-point shooter in NBA history?\"),\n",
    "])\n",
    "print(response)\n",
    "print(response.response)"
   ]
  }
 ],
 "metadata": {
  "kernelspec": {
   "display_name": ".venv",
   "language": "python",
   "name": "python3"
  },
  "language_info": {
   "codemirror_mode": {
    "name": "ipython",
    "version": 3
   },
   "file_extension": ".py",
   "mimetype": "text/x-python",
   "name": "python",
   "nbconvert_exporter": "python",
   "pygments_lexer": "ipython3",
   "version": "3.13.1"
  }
 },
 "nbformat": 4,
 "nbformat_minor": 5
}
