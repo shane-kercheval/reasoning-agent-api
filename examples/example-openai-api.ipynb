{
 "cells": [
  {
   "cell_type": "markdown",
   "id": "9ca38bf7",
   "metadata": {},
   "source": [
    "- Start the api via `make api` which should start the api at `http://localhost:8000`"
   ]
  },
  {
   "cell_type": "code",
   "execution_count": null,
   "id": "8c2adf19",
   "metadata": {},
   "outputs": [
    {
     "name": "stdout",
     "output_type": "stream",
     "text": [
      "Reasoning Event:\n",
      "{'type': 'iteration_start', 'step_iteration': 1, 'metadata': {'tools': []}, 'error': None}\n",
      "---\n",
      "Reasoning Event:\n",
      "{'type': 'planning', 'step_iteration': 1, 'metadata': {'tools': ['demo_tools_get_weather'], 'thought': 'The user is asking about the current weather, which requires real-time data. I will use the weather tool to get the latest weather information for a specific location. Since the user did not specify a location, I will assume a default location, such as New York City.', 'tools_planned': ['demo_tools_get_weather']}, 'error': None}\n",
      "---\n",
      "Reasoning Event:\n",
      "{'type': 'tool_execution_start', 'step_iteration': 1, 'metadata': {'tools': ['demo_tools_get_weather'], 'tool_predictions': [{'tool_name': 'demo_tools_get_weather', 'arguments': {'location': 'New York City'}, 'reasoning': 'To obtain the current weather information for New York City, which is a common reference point.'}], 'concurrent_execution': False}, 'error': None}\n",
      "---\n",
      "Reasoning Event:\n",
      "{'type': 'tool_result', 'step_iteration': 1, 'metadata': {'tools': ['demo_tools_get_weather'], 'tool_results': [{'tool_name': 'demo_tools_get_weather', 'success': True, 'result': {'location': 'New York City', 'current': {'temperature': '14°C', 'feels_like': '16°C', 'condition': 'Windy', 'humidity': '89%', 'wind': '8 km/h SW', 'pressure': '1004 hPa', 'visibility': '6 km', 'uv_index': 9}, 'forecast': [{'date': '2025-07-30', 'day': 'Wednesday', 'high': '22°C', 'low': '-1°C', 'condition': 'Clear', 'precipitation': '32%'}, {'date': '2025-07-31', 'day': 'Thursday', 'high': '10°C', 'low': '6°C', 'condition': 'Partly Cloudy', 'precipitation': '76%'}, {'date': '2025-08-01', 'day': 'Friday', 'high': '21°C', 'low': '9°C', 'condition': 'Cloudy', 'precipitation': '70%'}], 'last_updated': '2025-07-29T17:02:37.140638', 'source': 'Demo Weather API', 'server': 'demo-tools-server'}, 'error': None, 'execution_time_ms': 880.9094429016113}]}, 'error': None}\n",
      "---\n",
      "Reasoning Event:\n",
      "{'type': 'iteration_complete', 'step_iteration': 1, 'metadata': {'tools': ['demo_tools_get_weather'], 'had_tools': True}, 'error': None}\n",
      "---\n",
      "Reasoning Event:\n",
      "{'type': 'iteration_start', 'step_iteration': 2, 'metadata': {'tools': []}, 'error': None}\n",
      "---\n",
      "Reasoning Event:\n",
      "{'type': 'planning', 'step_iteration': 2, 'metadata': {'tools': [], 'thought': 'I have successfully retrieved the current weather information for New York City. The temperature is 14°C, feels like 16°C, and the weather condition is windy with 89% humidity. I also have a forecast for the next few days. Now I can provide a comprehensive answer to the user regarding the weather.', 'tools_planned': []}, 'error': None}\n",
      "---\n",
      "Reasoning Event:\n",
      "{'type': 'iteration_complete', 'step_iteration': 2, 'metadata': {'tools': [], 'had_tools': False}, 'error': None}\n",
      "---\n",
      "Reasoning Event:\n",
      "{'type': 'reasoning_complete', 'step_iteration': 0, 'metadata': {'tools': [], 'total_steps': 2}, 'error': None}\n",
      "---\n",
      "The current weather in New York City is 14°C, but it feels like 16°C due to wind conditions. It's quite windy with a humidity level of 89%, and the wind is blowing at 8 km/h from the southwest. Visibility is at 6 km, and the atmospheric pressure is 1004 hPa.\n",
      "\n",
      "Looking ahead, here's the weather forecast for the next few days:\n",
      "- **Wednesday, July 30**: High of 22°C, low of -1°C, clear conditions with a 32% chance of precipitation.\n",
      "- **Thursday, July 31**: High of 10°C, low of 6°C, partly cloudy with a 76% chance of precipitation.\n",
      "- **Friday, August 1**: High of 21°C, low of 9°C, cloudy with a 70% chance of precipitation.\n",
      "\n",
      "If you have a specific location in mind or need more detailed information, feel free to ask!"
     ]
    }
   ],
   "source": [
    "from openai import AsyncOpenAI\n",
    "\n",
    "# Point to your reasoning agent\n",
    "client = AsyncOpenAI(\n",
    "    api_key=\"your-openai-api-key\",\n",
    "    base_url=\"http://localhost:8000/v1\"\n",
    ")\n",
    "\n",
    "# Use exactly like OpenAI's API\n",
    "response = await client.chat.completions.create(\n",
    "    model=\"gpt-4o-mini\",\n",
    "    messages=[{\"role\": \"user\", \"content\": \"What's the weather like?\"}],\n",
    "    stream=True,  # See reasoning steps in real-time\n",
    ")\n",
    "async for chunk in response:\n",
    "    # reasoning_event is available in the stream\n",
    "    if chunk.choices[0].delta.reasoning_event:\n",
    "        print(\"Reasoning Event:\")\n",
    "        print(chunk.choices[0].delta.reasoning_event)\n",
    "        print(\"---\")\n",
    "    # content is the final response\n",
    "    if chunk.choices[0].delta.content:\n",
    "        print(chunk.choices[0].delta.content, end=\"\")"
   ]
  },
  {
   "cell_type": "code",
   "execution_count": null,
   "id": "ade796c5",
   "metadata": {},
   "outputs": [],
   "source": []
  }
 ],
 "metadata": {
  "kernelspec": {
   "display_name": ".venv",
   "language": "python",
   "name": "python3"
  },
  "language_info": {
   "codemirror_mode": {
    "name": "ipython",
    "version": 3
   },
   "file_extension": ".py",
   "mimetype": "text/x-python",
   "name": "python",
   "nbconvert_exporter": "python",
   "pygments_lexer": "ipython3",
   "version": "3.13.1"
  }
 },
 "nbformat": 4,
 "nbformat_minor": 5
}
